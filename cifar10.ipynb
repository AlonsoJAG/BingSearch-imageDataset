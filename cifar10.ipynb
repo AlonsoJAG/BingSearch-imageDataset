{
  "nbformat": 4,
  "nbformat_minor": 0,
  "metadata": {
    "colab": {
      "name": "cifar10",
      "provenance": [],
      "collapsed_sections": [],
      "authorship_tag": "ABX9TyN/xYrvSIWFtONXQdnDCs9+",
      "include_colab_link": true
    },
    "kernelspec": {
      "name": "python3",
      "display_name": "Python 3"
    },
    "language_info": {
      "name": "python"
    }
  },
  "cells": [
    {
      "cell_type": "markdown",
      "metadata": {
        "id": "view-in-github",
        "colab_type": "text"
      },
      "source": [
        "<a href=\"https://colab.research.google.com/github/AlonsoJAG/BingSearch-imageDataset/blob/master/cifar10.ipynb\" target=\"_parent\"><img src=\"https://colab.research.google.com/assets/colab-badge.svg\" alt=\"Open In Colab\"/></a>"
      ]
    },
    {
      "cell_type": "code",
      "metadata": {
        "id": "0P7KUFO9EXHb"
      },
      "source": [
        "import tensorflow as tf\n",
        "import numpy as np\n",
        "import keras\n",
        "from keras.datasets import cifar10\n",
        "from keras.models import Sequential,Model\n",
        "from keras.layers import Dense,Dropout,Flatten,Conv2D,MaxPooling2D,Input\n",
        "from keras import backend as k\n",
        "from keras.callbacks import TensorBoard\n",
        "from keras.optimizers import SGD,Adam\n",
        "from keras.applications import vgg16\n",
        "from keras.utils.np_utils import to_categorical\n"
      ],
      "execution_count": 17,
      "outputs": []
    },
    {
      "cell_type": "code",
      "metadata": {
        "id": "vk8uyuBQHR-G",
        "colab": {
          "base_uri": "https://localhost:8080/"
        },
        "outputId": "06a3dea3-aa31-4c1d-9bb8-646e8e37107b"
      },
      "source": [
        "batch_size=100\n",
        "num_classes=10\n",
        "epochs=30\n",
        "(xt,yt),(xtest,ytest)=cifar10.load_data()\n",
        "_,filas,columnas,canales=xt.shape\n",
        "\n",
        "xt=xt.astype(\"float32\")\n",
        "xtest=xtest.astype(\"float32\")\n",
        "\n",
        "xt=xt/255\n",
        "xtest=xtest/255\n",
        "\n",
        "yt=to_categorical(yt,num_classes)\n",
        "ytest=to_categorical(ytest,num_classes)\n",
        "\n",
        "Basica=1\n",
        "if(Basica==1):\n",
        "  Entradas=Input(shape=(filas,columnas,canales))\n",
        "  x=Conv2D(64,kernel_size=(3,3),activation=\"relu\")(Entradas)\n",
        "  x=Conv2D(128,kernel_size=(3,3),activation=\"relu\")(x)\n",
        "  x=MaxPooling2D(pool_size=(2,2))(x)\n",
        "  x=Flatten()(x)\n",
        "  x=Dense(10,activation=\"relu\")(x)\n",
        "  x=Dense(num_classes,activation=\"softmax\")(x)\n",
        "\n",
        "if(Basica==0):\n",
        "  Entradas=Input(shape=(filas,columnas,canales))\n",
        "  x=Conv2D(64,(3,3),activation=\"relu\",padding=\"same\",name=\"block_conv1\")(Entradas)\n",
        "  x=Conv2D(64,(3,3),activation=\"relu\",padding=\"same\",name=\"block_conv2\")(x)\n",
        "  x=MaxPooling2D((2,2),strides=(2,2),name=\"block1_pool\")(x)\n",
        "  \n",
        "  x=Conv2D(128,(3,3),activation=\"relu\",padding=\"same\",name=\"block2_conv1\")(x)\n",
        "  x=Conv2D(128,(3,3),activation=\"relu\",padding=\"same\",name=\"block2_conv2\")(x)\n",
        "  x=MaxPooling2D((2,2),strides=(2,2),name=\"block2_pool\")(x)\n",
        "\n",
        "  x=Conv2D(256,(3,3),activation=\"relu\",padding=\"same\",name=\"block3_conv1\")(x)\n",
        "  x=Conv2D(256,(3,3),activation=\"relu\",padding=\"same\",name=\"block3_conv2\")(x)\n",
        "  x=Conv2D(256,(3,3),activation=\"relu\",padding=\"same\",name=\"block3_conv3\")(x)\n",
        "  x=MaxPooling2D((2,2),strides=(2,2),name=\"block3_pool\")(x)\n",
        "  x=Flatten()(x)\n",
        "  x=Dense(10,activation=\"relu\")(x)\n",
        "  x=Dense(num_classes,activation=\"softmax\")(x)\n",
        "\n",
        "modelo=Model(inputs=Entradas,outputs=x)\n",
        "descenso_gradiente_estocastico=Adam(lr=0.001,beta_1=0.9,beta_2=0.9)\n",
        "modelo.compile(loss=keras.losses.categorical_crossentropy,optimizer=descenso_gradiente_estocastico,metrics=[\"categorical_accuracy\"])\n",
        "modelo.fit(xt,yt,batch_size=batch_size,epochs=epochs,verbose=1,validation_data=(xtest,ytest))\n",
        "\n",
        "puntuacion=modelo.evaluate(xtest,ytest,verbose=1)\n",
        "\n",
        "print(puntuacion)"
      ],
      "execution_count": 23,
      "outputs": [
        {
          "output_type": "stream",
          "text": [
            "/usr/local/lib/python3.7/dist-packages/tensorflow/python/keras/optimizer_v2/optimizer_v2.py:375: UserWarning: The `lr` argument is deprecated, use `learning_rate` instead.\n",
            "  \"The `lr` argument is deprecated, use `learning_rate` instead.\")\n"
          ],
          "name": "stderr"
        },
        {
          "output_type": "stream",
          "text": [
            "Epoch 1/30\n",
            "500/500 [==============================] - 448s 865ms/step - loss: 2.1431 - categorical_accuracy: 0.1940 - val_loss: 1.7241 - val_categorical_accuracy: 0.3549\n",
            "Epoch 2/30\n",
            "500/500 [==============================] - 426s 852ms/step - loss: 1.6787 - categorical_accuracy: 0.3673 - val_loss: 1.6251 - val_categorical_accuracy: 0.3933\n",
            "Epoch 3/30\n",
            "500/500 [==============================] - 424s 848ms/step - loss: 1.5484 - categorical_accuracy: 0.4105 - val_loss: 1.5307 - val_categorical_accuracy: 0.4222\n",
            "Epoch 4/30\n",
            "500/500 [==============================] - 425s 850ms/step - loss: 1.4662 - categorical_accuracy: 0.4422 - val_loss: 1.4701 - val_categorical_accuracy: 0.4399\n",
            "Epoch 5/30\n",
            "500/500 [==============================] - 420s 841ms/step - loss: 1.4006 - categorical_accuracy: 0.4641 - val_loss: 1.4344 - val_categorical_accuracy: 0.4518\n",
            "Epoch 6/30\n",
            "500/500 [==============================] - 422s 844ms/step - loss: 1.3586 - categorical_accuracy: 0.4802 - val_loss: 1.3936 - val_categorical_accuracy: 0.4713\n",
            "Epoch 7/30\n",
            "500/500 [==============================] - 426s 852ms/step - loss: 1.3289 - categorical_accuracy: 0.4912 - val_loss: 1.3608 - val_categorical_accuracy: 0.4828\n",
            "Epoch 8/30\n",
            "500/500 [==============================] - 420s 840ms/step - loss: 1.3025 - categorical_accuracy: 0.5044 - val_loss: 1.3612 - val_categorical_accuracy: 0.4812\n",
            "Epoch 9/30\n",
            "500/500 [==============================] - 421s 843ms/step - loss: 1.2658 - categorical_accuracy: 0.5191 - val_loss: 1.3336 - val_categorical_accuracy: 0.4928\n",
            "Epoch 10/30\n",
            "500/500 [==============================] - 420s 841ms/step - loss: 1.2418 - categorical_accuracy: 0.5250 - val_loss: 1.3487 - val_categorical_accuracy: 0.5019\n",
            "Epoch 11/30\n",
            "500/500 [==============================] - 424s 849ms/step - loss: 1.2213 - categorical_accuracy: 0.5349 - val_loss: 1.3170 - val_categorical_accuracy: 0.5140\n",
            "Epoch 12/30\n",
            "500/500 [==============================] - 425s 850ms/step - loss: 1.2001 - categorical_accuracy: 0.5438 - val_loss: 1.3285 - val_categorical_accuracy: 0.5055\n",
            "Epoch 13/30\n",
            "500/500 [==============================] - 421s 843ms/step - loss: 1.1709 - categorical_accuracy: 0.5561 - val_loss: 1.3089 - val_categorical_accuracy: 0.5100\n",
            "Epoch 14/30\n",
            "500/500 [==============================] - 418s 836ms/step - loss: 1.1577 - categorical_accuracy: 0.5604 - val_loss: 1.2940 - val_categorical_accuracy: 0.5276\n",
            "Epoch 15/30\n",
            "500/500 [==============================] - 419s 838ms/step - loss: 1.1300 - categorical_accuracy: 0.5748 - val_loss: 1.2885 - val_categorical_accuracy: 0.5258\n",
            "Epoch 16/30\n",
            "500/500 [==============================] - 419s 839ms/step - loss: 1.1198 - categorical_accuracy: 0.5795 - val_loss: 1.2974 - val_categorical_accuracy: 0.5274\n",
            "Epoch 17/30\n",
            "500/500 [==============================] - 418s 836ms/step - loss: 1.1016 - categorical_accuracy: 0.5825 - val_loss: 1.2636 - val_categorical_accuracy: 0.5381\n",
            "Epoch 18/30\n",
            "500/500 [==============================] - 419s 839ms/step - loss: 1.0817 - categorical_accuracy: 0.5924 - val_loss: 1.2844 - val_categorical_accuracy: 0.5335\n",
            "Epoch 19/30\n",
            "500/500 [==============================] - 419s 839ms/step - loss: 1.0755 - categorical_accuracy: 0.5970 - val_loss: 1.2867 - val_categorical_accuracy: 0.5408\n",
            "Epoch 20/30\n",
            "500/500 [==============================] - 420s 840ms/step - loss: 1.0640 - categorical_accuracy: 0.6014 - val_loss: 1.2877 - val_categorical_accuracy: 0.5394\n",
            "Epoch 21/30\n",
            "500/500 [==============================] - 421s 842ms/step - loss: 1.0503 - categorical_accuracy: 0.6067 - val_loss: 1.3067 - val_categorical_accuracy: 0.5371\n",
            "Epoch 22/30\n",
            "500/500 [==============================] - 421s 842ms/step - loss: 1.0290 - categorical_accuracy: 0.6163 - val_loss: 1.2706 - val_categorical_accuracy: 0.5501\n",
            "Epoch 23/30\n",
            "500/500 [==============================] - 419s 839ms/step - loss: 1.0106 - categorical_accuracy: 0.6204 - val_loss: 1.2640 - val_categorical_accuracy: 0.5467\n",
            "Epoch 24/30\n",
            "500/500 [==============================] - 418s 835ms/step - loss: 0.9984 - categorical_accuracy: 0.6269 - val_loss: 1.3472 - val_categorical_accuracy: 0.5325\n",
            "Epoch 25/30\n",
            "500/500 [==============================] - 418s 837ms/step - loss: 1.0025 - categorical_accuracy: 0.6237 - val_loss: 1.2689 - val_categorical_accuracy: 0.5543\n",
            "Epoch 26/30\n",
            "500/500 [==============================] - 418s 837ms/step - loss: 0.9886 - categorical_accuracy: 0.6293 - val_loss: 1.2884 - val_categorical_accuracy: 0.5460\n",
            "Epoch 27/30\n",
            "500/500 [==============================] - 418s 836ms/step - loss: 0.9673 - categorical_accuracy: 0.6385 - val_loss: 1.2816 - val_categorical_accuracy: 0.5490\n",
            "Epoch 28/30\n",
            "500/500 [==============================] - 419s 839ms/step - loss: 0.9643 - categorical_accuracy: 0.6411 - val_loss: 1.2747 - val_categorical_accuracy: 0.5477\n",
            "Epoch 29/30\n",
            "500/500 [==============================] - 419s 837ms/step - loss: 0.9668 - categorical_accuracy: 0.6374 - val_loss: 1.2817 - val_categorical_accuracy: 0.5547\n",
            "Epoch 30/30\n",
            "500/500 [==============================] - 420s 840ms/step - loss: 0.9421 - categorical_accuracy: 0.6457 - val_loss: 1.2793 - val_categorical_accuracy: 0.5471\n",
            "313/313 [==============================] - 24s 76ms/step - loss: 1.2793 - categorical_accuracy: 0.5471\n",
            "[1.27931547164917, 0.5471000075340271]\n"
          ],
          "name": "stdout"
        }
      ]
    }
  ]
}